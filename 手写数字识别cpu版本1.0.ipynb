{
 "cells": [
  {
   "cell_type": "code",
   "execution_count": 12,
   "id": "fd941a71",
   "metadata": {},
   "outputs": [],
   "source": [
    "#此处为调用库\n",
    "import numpy\n",
    "import scipy.special\n",
    "import matplotlib.pyplot\n",
    "%matplotlib inline"
   ]
  },
  {
   "cell_type": "code",
   "execution_count": 14,
   "id": "36f61b1a",
   "metadata": {},
   "outputs": [],
   "source": [
    "class neuralNetwork :\n",
    "    def __init__(self, inputnodes, hiddennodes, outputnodes, learningrate ):\n",
    "        #设置输入层节点，隐藏层节点，输出层节点数量。\n",
    "        self.inodes = inputnodes\n",
    "        self.hnodes = hiddennodes\n",
    "        self.onodes = outputnodes\n",
    "        #设置学习率\n",
    "        self.lr = learningrate \n",
    "        #设置随机链接权重矩阵\n",
    "        self.wih = numpy.random.normal(0.0 ,pow(self.hnodes, -0.5),(self.hnodes, self.inodes)) \n",
    "        self.who = numpy.random.normal (0.0 ,pow(self.onodes , -0.5),(self.onodes, self.hnodes))\n",
    "        #设置s函数为激活函数\n",
    "        self.activation_function = lambda x: scipy.special.expit(x)\n",
    "        \n",
    "        pass\n",
    "    #设置训练神经网络\n",
    "    def train(self, inputs_list, targets_list):\n",
    "        #将输入列表转换为2d数组\n",
    "        inputs = numpy.array(inputs_list, ndmin=2).T\n",
    "        targets = numpy.array(targets_list, ndmin=2).T\n",
    "        #计算进入隐藏层信号值\n",
    "        hidden_inputs =numpy.dot(self.wih, inputs)\n",
    "        #计算隐藏层中出现的信号\n",
    "        hidden_outputs = self.activation_function(hidden_inputs)\n",
    "        #计算进入最终输出层信号值\n",
    "        final_inputs = numpy.dot(self.who, hidden_outputs)\n",
    "        #计算最终输出层出现的信号\n",
    "        final_outputs = self.activation_function(final_inputs)\n",
    "        #输出层误差值为 (target - actual)\n",
    "        output_errors = targets - final_outputs\n",
    "        #隐藏层误差 是按权重划分的输出误差，在隐藏层节点处 重新组合\n",
    "        hidden_errors = numpy.dot(self.who.T, output_errors)\n",
    "        #更新权重从隐藏层和输出层链接节点处\n",
    "        self.who += self.lr * numpy.dot((output_errors * final_outputs * ( 1.0 - final_outputs)), numpy.transpose(hidden_outputs))\n",
    "        #更新权重从输入层和隐藏层链接节点处\n",
    "        self.wih += self.lr * numpy.dot((hidden_errors * hidden_outputs * ( 1.0 - hidden_outputs)), numpy.transpose(inputs))\n",
    "        pass\n",
    "    #设置查询神经网络\n",
    "    def query(self, inputs_list):\n",
    "        #将输入列表转换为2d数组\n",
    "        inputs = numpy.array(inputs_list, ndmin=2).T\n",
    "        #计算进入隐藏层信号值\n",
    "        hidden_inputs =numpy.dot(self.wih, inputs)\n",
    "        #计算隐藏层中出现的信号\n",
    "        hidden_outputs = self.activation_function(hidden_inputs)\n",
    "        #计算进入最终输出层信号值\n",
    "        final_inputs = numpy.dot(self.who, hidden_outputs)\n",
    "        #计算最终输出层出现的信号\n",
    "        final_outputs = self.activation_function(final_inputs)\n",
    "        return final_outputs\n",
    "    \n",
    "    "
   ]
  },
  {
   "cell_type": "code",
   "execution_count": 16,
   "id": "6b2c5f85",
   "metadata": {},
   "outputs": [],
   "source": [
    "#输入节点数量为784\n",
    "input_nodes = 784\n",
    "#隐藏层节点数量为200\n",
    "hidden_nodes = 200\n",
    "#输出层节点数量为10\n",
    "output_nodes = 10\n",
    "#学习率设置为0.1\n",
    "learning_rate = 0.1\n",
    "#为 neuralNetwork 创建名为 n 的对象\n",
    "n = neuralNetwork(input_nodes, hidden_nodes, output_nodes , learning_rate  )"
   ]
  },
  {
   "cell_type": "code",
   "execution_count": 18,
   "id": "033d0502",
   "metadata": {},
   "outputs": [],
   "source": [
    "#加载mnist训练集进入文件\n",
    "training_data_file = open(\"D:\\Ai_Project_Tool\\数据集合\\MNIST数据库\\mnist_train.csv\", 'r')\n",
    "training_data_list = training_data_file.readlines()\n",
    "training_data_file.close()"
   ]
  },
  {
   "cell_type": "code",
   "execution_count": 20,
   "id": "d746c1d4",
   "metadata": {},
   "outputs": [],
   "source": [
    "#加载mnist测试集进入文件\n",
    "test_data_file = open(\"D:\\Ai_Project_Tool\\数据集合\\MNIST数据库\\mnist_test.csv\", 'r')\n",
    "test_data_list = test_data_file.readlines()\n",
    "test_data_file.close()"
   ]
  },
  {
   "cell_type": "code",
   "execution_count": 22,
   "id": "f0d9a67f",
   "metadata": {},
   "outputs": [],
   "source": [
    "#设置迭代次数为 5\n",
    "epochs = 5\n",
    "\n",
    "for e in range(epochs):\n",
    "    for record in training_data_list:\n",
    "        all_values = record.split(',')\n",
    "        inputs = (numpy.asfarray(all_values[1:]) / 255.0 *0.99 )+ 0.01\n",
    "        targets = numpy.zeros(output_nodes)+ 0.01\n",
    "        targets[int(all_values[0])] = 0.99\n",
    "        n.train(inputs,targets)\n",
    "        pass\n",
    "    pass\n",
    "\n",
    "    \n"
   ]
  },
  {
   "cell_type": "code",
   "execution_count": 24,
   "id": "35233123",
   "metadata": {},
   "outputs": [],
   "source": [
    "#测试神经网络\n",
    "scorecard = []\n",
    "for record in test_data_list:\n",
    "    all_values = record.split(',')\n",
    "    correct_label = int(all_values[0])\n",
    "    inputs = (numpy.asfarray(all_values[1:]) / 255.0 * 0.99) +0.01\n",
    "    outputs = n.query(inputs)\n",
    "    label = numpy.argmax(outputs)\n",
    "    if (label == correct_label):\n",
    "        scorecard.append(1)\n",
    "    else:\n",
    "        scorecard.append(0)\n",
    "        pass\n",
    "    pass\n",
    "        "
   ]
  },
  {
   "cell_type": "code",
   "execution_count": 26,
   "id": "f553346a",
   "metadata": {},
   "outputs": [
    {
     "name": "stdout",
     "output_type": "stream",
     "text": [
      "performance =  0.1496\n"
     ]
    }
   ],
   "source": [
    "#打印测试结果正确率%\n",
    "scorecard_array= numpy.asarray(scorecard)\n",
    "print (\"performance = \", scorecard_array.sum() / scorecard_array.size)"
   ]
  },
  {
   "cell_type": "code",
   "execution_count": 28,
   "id": "f8338467",
   "metadata": {},
   "outputs": [
    {
     "name": "stdout",
     "output_type": "stream",
     "text": [
      "0\n"
     ]
    }
   ],
   "source": [
    "#调试与测试\n",
    "list_try_numbers = 1\n",
    "#打印[n]标签\n",
    "print(all_values[list_try_numbers])"
   ]
  },
  {
   "cell_type": "code",
   "execution_count": null,
   "id": "79af6219",
   "metadata": {},
   "outputs": [],
   "source": [
    "all_values = test_data_list[list_try_numbers].split(',')\n",
    "print (all_values)"
   ]
  },
  {
   "cell_type": "code",
   "execution_count": null,
   "id": "77014305",
   "metadata": {},
   "outputs": [],
   "source": [
    "#打印[n]标签\n",
    "print(all_values[list_try_numbers])"
   ]
  },
  {
   "cell_type": "code",
   "execution_count": null,
   "id": "a56068f1",
   "metadata": {},
   "outputs": [],
   "source": [
    "#获得[n]的标签\n",
    "all_values = test_data_list [list_try_numbers].split(',')\n",
    "#将数据绘制乘28x28尺寸图像\n",
    "image_array = numpy.asfarray(all_values[1:]).reshape((28, 28))\n",
    "matplotlib.pyplot.imshow(image_array, cmap='Greys', interpolation= 'None')"
   ]
  },
  {
   "cell_type": "code",
   "execution_count": null,
   "id": "dfc5e765",
   "metadata": {
    "scrolled": true
   },
   "outputs": [],
   "source": [
    "n.query((numpy.asfarray(all_values[1:]) / 255.0 * 0.99) + 0.01)"
   ]
  },
  {
   "cell_type": "code",
   "execution_count": null,
   "id": "eb307876",
   "metadata": {},
   "outputs": [],
   "source": []
  }
 ],
 "metadata": {
  "kernelspec": {
   "display_name": "Python 3 (ipykernel)",
   "language": "python",
   "name": "python3"
  },
  "language_info": {
   "codemirror_mode": {
    "name": "ipython",
    "version": 3
   },
   "file_extension": ".py",
   "mimetype": "text/x-python",
   "name": "python",
   "nbconvert_exporter": "python",
   "pygments_lexer": "ipython3",
   "version": "3.7.16"
  }
 },
 "nbformat": 4,
 "nbformat_minor": 5
}
