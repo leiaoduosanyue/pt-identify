{
 "cells": [
  {
   "cell_type": "code",
   "execution_count": 1,
   "id": "f57078d4",
   "metadata": {},
   "outputs": [],
   "source": [
    "#调用库\n",
    "import torch\n",
    "import torch.nn as nn\n",
    "import torch.nn.functional as F\n",
    "import torch.optim as optim\n",
    "from torchvision import datasets, transforms\n",
    "import random\n",
    "import pylab\n",
    "import matplotlib.pyplot as plt\n"
   ]
  },
  {
   "cell_type": "code",
   "execution_count": 2,
   "id": "0dd8690b",
   "metadata": {},
   "outputs": [],
   "source": [
    "#定义超参数\n",
    "batch_sizes = 512 #每批处理数量\n",
    "device = torch.device(\"cuda\") #利用GPU计算\n",
    "epochs = 10  #设置迭代次数为 10\n",
    "\n"
   ]
  },
  {
   "cell_type": "code",
   "execution_count": 3,
   "id": "3129e26d",
   "metadata": {},
   "outputs": [],
   "source": [
    "#对图像处理\n",
    "pipeline = transforms.Compose([\n",
    "    transforms.ToTensor(), #将图片转型为tesnor格式\n",
    "    transforms.Normalize((0.1307,),(0.3081,)) #降低模型过度拟合,即降低模型复杂度\n",
    "    \n",
    "    \n",
    "])"
   ]
  },
  {
   "cell_type": "code",
   "execution_count": 4,
   "id": "9b4833d2",
   "metadata": {},
   "outputs": [],
   "source": [
    "from torch.utils.data import DataLoader\n",
    "\n",
    "1.#下载mnist训练集进入文件\n",
    "train_set= datasets.MNIST(\"mnist_data\", train=True, download= True, transform=pipeline)\n",
    "\n",
    "2.#下载mnist测试集进入文件\n",
    "test_set = datasets.MNIST(\"mnist_data\", train=False, download= True, transform=pipeline)\n",
    "\n",
    "#加载数据\n",
    "train_loader = DataLoader(train_set, batch_size= batch_sizes, shuffle=True)\n",
    "test_loader = DataLoader(test_set, batch_size= batch_sizes, shuffle=True)"
   ]
  },
  {
   "cell_type": "code",
   "execution_count": 5,
   "id": "39fad48a",
   "metadata": {},
   "outputs": [],
   "source": [
    "def get_train_data():\n",
    "    train_set= datasets.MNIST(\"mnist_data\", train=True, download= True, transform=pipeline)\n",
    "    train_loader = DataLoader(train_set, batch_size= batch_sizes, shuffle=True)\n",
    "    \n",
    "    return train_set, train_loader\n",
    "    "
   ]
  },
  {
   "cell_type": "code",
   "execution_count": 6,
   "id": "ad699858",
   "metadata": {},
   "outputs": [],
   "source": [
    "#构建神经网络try1模型\n",
    "class neural_network_model_try(nn.Module):\n",
    "    def __init__(self ):\n",
    "        super(). __init__()\n",
    "        self.cv1 = nn.Conv2d(1, 10 ,5 ) \n",
    "        self.cv2 = nn.Conv2d(10, 20 ,3 )\n",
    "        self.fc1 = nn.Linear(20*10*10, 500 )\n",
    "        self.fc2 = nn.Linear(500, 10)\n",
    "    def forward (self, x):\n",
    "        input_size = x.size(0)\n",
    "        x = self.cv1(x)\n",
    "        x = F.relu(x)\n",
    "        x = F.max_pool2d(x, 2, 2)\n",
    "        x = self.cv2(x)\n",
    "        x = F.relu(x)\n",
    "        x = x.view(input_size, -1)\n",
    "        x = self.fc1(x)\n",
    "        x = F.relu(x)\n",
    "        x = self.fc2(x)\n",
    "        \n",
    "        outputs = F.log_softmax(x, dim=1)\n",
    "        \n",
    "        return outputs\n",
    "    \n",
    "       \n",
    "    \n",
    "    "
   ]
  },
  {
   "cell_type": "code",
   "execution_count": 7,
   "id": "4384d06e",
   "metadata": {},
   "outputs": [],
   "source": [
    "#定义优化器\n",
    "model = neural_network_model_try().to(device)\n",
    "\n",
    "optimizer = optim.Adam(model.parameters())"
   ]
  },
  {
   "cell_type": "code",
   "execution_count": 8,
   "id": "73aefccf",
   "metadata": {},
   "outputs": [],
   "source": [
    "#训练模型\n",
    "def train_model(model, device, train_loader, optimizer, epoch ):\n",
    "    model.train()\n",
    "    for batch_index, (data , target) in enumerate(train_loader):\n",
    "        data, target = data.to(device), target.to(device)\n",
    "        optimizer.zero_grad()\n",
    "        output = model(data)\n",
    "        loss = F.cross_entropy(output, target)\n",
    "        pred = output.max(1, keepdim=True)\n",
    "        \n",
    "        \n",
    "        \n",
    "        loss.backward()\n",
    "        optimizer.step()\n",
    "        if batch_index % 3500 == 0 :\n",
    "            print(\"Train Epoch : {} \\t Loss : {:.6f} \".format(epoch, loss.item()))"
   ]
  },
  {
   "cell_type": "code",
   "execution_count": 9,
   "id": "a76a3b32",
   "metadata": {},
   "outputs": [],
   "source": [
    "#测试模型\n",
    "def test_model(model, device, test_loader ):\n",
    "    model.eval()\n",
    "    correct = 0.0\n",
    "    test_loss = 0.0\n",
    "    with torch.no_grad():\n",
    "        for data, target in test_loader:\n",
    "            data, target = data.to(device), target.to(device)\n",
    "            output = model(data)\n",
    "            test_loss = F.cross_entropy(output, target).item()\n",
    "            pred = output.max(1, keepdim=True)[1]\n",
    "            correct += pred.eq(target.view_as(pred)).sum().item()\n",
    "        test_loss /=len(test_loader.dataset) \n",
    "        print(\"Test -- Average loss : {: 4f} , Accuracy : {: 3f} \\n \".format(\n",
    "               test_loss, 100.0* correct / len(test_loader.dataset)))\n",
    "   "
   ]
  },
  {
   "cell_type": "code",
   "execution_count": 10,
   "id": "c8d37f52",
   "metadata": {},
   "outputs": [
    {
     "name": "stdout",
     "output_type": "stream",
     "text": [
      "Train Epoch : 1 \t Loss : 2.306326 \n",
      "Test -- Average loss :  0.000013 , Accuracy :  96.480000 \n",
      " \n",
      "Train Epoch : 2 \t Loss : 0.107048 \n",
      "Test -- Average loss :  0.000004 , Accuracy :  97.980000 \n",
      " \n",
      "Train Epoch : 3 \t Loss : 0.046612 \n",
      "Test -- Average loss :  0.000007 , Accuracy :  98.310000 \n",
      " \n",
      "Train Epoch : 4 \t Loss : 0.059631 \n",
      "Test -- Average loss :  0.000009 , Accuracy :  98.350000 \n",
      " \n",
      "Train Epoch : 5 \t Loss : 0.038639 \n",
      "Test -- Average loss :  0.000004 , Accuracy :  98.760000 \n",
      " \n",
      "Train Epoch : 6 \t Loss : 0.036511 \n",
      "Test -- Average loss :  0.000002 , Accuracy :  98.970000 \n",
      " \n",
      "Train Epoch : 7 \t Loss : 0.019921 \n",
      "Test -- Average loss :  0.000003 , Accuracy :  98.790000 \n",
      " \n",
      "Train Epoch : 8 \t Loss : 0.020132 \n",
      "Test -- Average loss :  0.000001 , Accuracy :  99.030000 \n",
      " \n",
      "Train Epoch : 9 \t Loss : 0.005573 \n",
      "Test -- Average loss :  0.000005 , Accuracy :  98.600000 \n",
      " \n",
      "Train Epoch : 10 \t Loss : 0.020063 \n",
      "Test -- Average loss :  0.000008 , Accuracy :  99.070000 \n",
      " \n"
     ]
    }
   ],
   "source": [
    "#迭代测试\n",
    "for epochs in range (1, epochs +1):\n",
    "    train_model(model, device, train_loader, optimizer, epochs)\n",
    "    test_model(model, device, test_loader)\n",
    "   "
   ]
  },
  {
   "cell_type": "code",
   "execution_count": 12,
   "id": "d5c327ca",
   "metadata": {},
   "outputs": [
    {
     "name": "stdout",
     "output_type": "stream",
     "text": [
      "这张图片被识别为数字8.\n",
      "这张图片实际为8.\n",
      "识别正确!\n",
      "49661\n"
     ]
    },
    {
     "data": {
      "image/png": "[encoded data removed]",
      "text/plain": [
       "<Figure size 640x480 with 1 Axes>"
      ]
     },
     "metadata": {},
     "output_type": "display_data"
    }
   ],
   "source": [
    "#可视化测试\n",
    "test_net  = neural_network_model_try()\n",
    "r = random.randint(0, 59999)\n",
    "train_data, _ = get_train_data()\n",
    "output_test = test_net(train_data[r][0].unsqueeze(0))\n",
    "pred_test = torch.argmax(output_test)\n",
    "print(f\"这张图片被识别为数字{pred_test}.\")\n",
    "print(f\"这张图片实际为{train_data[r][1]}.\")\n",
    " \n",
    "if pred_test == train_data[r][1]:\n",
    "    print(\"识别正确!\")\n",
    "else:\n",
    "    print(\"识别错误！\")\n",
    "    \n",
    "print(r)\n",
    "plt.imshow(train_data[r][0].squeeze(0))\n",
    "pylab.show()"
   ]
  },
  {
   "cell_type": "code",
   "execution_count": null,
   "id": "6b83d5f8",
   "metadata": {},
   "outputs": [],
   "source": []
  },
  {
   "cell_type": "code",
   "execution_count": null,
   "id": "618e87c3",
   "metadata": {},
   "outputs": [],
   "source": []
  }
 ],
 "metadata": {
  "kernelspec": {
   "display_name": "Python 3 (ipykernel)",
   "language": "python",
   "name": "python3"
  },
  "language_info": {
   "codemirror_mode": {
    "name": "ipython",
    "version": 3
   },
   "file_extension": ".py",
   "mimetype": "text/x-python",
   "name": "python",
   "nbconvert_exporter": "python",
   "pygments_lexer": "ipython3",
   "version": "3.7.16"
  }
 },
 "nbformat": 4,
 "nbformat_minor": 5
}
